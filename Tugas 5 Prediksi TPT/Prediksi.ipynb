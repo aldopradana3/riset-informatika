{
 "cells": [
  {
   "cell_type": "code",
   "execution_count": 1,
   "metadata": {},
   "outputs": [],
   "source": [
    "import pandas as pd\n",
    "from sklearn.linear_model import LinearRegression\n",
    "from datetime import datetime\n",
    "\n",
    "# Data pengangguran jenis kelamin laki-laki\n",
    "data_laki_laki = [6.07, 5.7, 5.53, 5.34, 5.24, 7.46, 6.74]\n",
    "\n",
    "# Data pengangguran jenis kelamin perempuan\n",
    "data_perempuan = [6.37, 5.45, 5.44, 5.25, 5.22, 6.46, 6.11]\n",
    "\n",
    "# Tahun\n",
    "tahun = list(range(2015, 2022))\n",
    "\n",
    "# Buat DataFrame\n",
    "df = pd.DataFrame({\n",
    "    'Tahun': tahun,\n",
    "    'Pengangguran_Laki_Laki': data_laki_laki,\n",
    "    'Pengangguran_Perempuan': data_perempuan\n",
    "})\n",
    "\n",
    "# Urutkan DataFrame berdasarkan indeks (tahun)\n",
    "df = df.sort_values(by='Tahun')"
   ]
  },
  {
   "cell_type": "code",
   "execution_count": 2,
   "metadata": {},
   "outputs": [],
   "source": [
    "# Pisahkan fitur dan target\n",
    "X = df['Tahun'].values.reshape(-1, 1)  # Gunakan tahun sebagai fitur\n",
    "y_laki_laki = df['Pengangguran_Laki_Laki'].values\n",
    "y_perempuan = df['Pengangguran_Perempuan'].values\n",
    "\n",
    "# Buat model regresi linier untuk Laki-Laki\n",
    "model_laki_laki = LinearRegression()\n",
    "model_laki_laki.fit(X, y_laki_laki)\n",
    "\n",
    "# Buat model regresi linier untuk Perempuan\n",
    "model_perempuan = LinearRegression()\n",
    "model_perempuan.fit(X, y_perempuan)\n",
    "\n",
    "# Lakukan prediksi untuk tahun 2022 dan 2023\n",
    "tahun_2022 = datetime.strptime('2022-01-01', '%Y-%m-%d')\n",
    "tahun_2023 = datetime.strptime('2023-01-01', '%Y-%m-%d')"
   ]
  },
  {
   "cell_type": "code",
   "execution_count": 3,
   "metadata": {},
   "outputs": [
    {
     "name": "stdout",
     "output_type": "stream",
     "text": [
      "Prediksi pengangguran laki-laki tahun 2022: 6.76%\n",
      "Prediksi pengangguran perempuan tahun 2022: 5.90%\n",
      "Prediksi pengangguran laki-laki tahun 2023: 6.95%\n",
      "Prediksi pengangguran perempuan tahun 2023: 5.94%\n"
     ]
    }
   ],
   "source": [
    "prediksi_2022_laki_laki = model_laki_laki.predict([[tahun_2022.year]])[0]\n",
    "prediksi_2022_perempuan = model_perempuan.predict([[tahun_2022.year]])[0]\n",
    "prediksi_2023_laki_laki = model_laki_laki.predict([[tahun_2023.year]])[0]\n",
    "prediksi_2023_perempuan = model_perempuan.predict([[tahun_2023.year]])[0]\n",
    "\n",
    "# Tampilkan hasil prediksi\n",
    "print(f'Prediksi pengangguran laki-laki tahun 2022: {prediksi_2022_laki_laki:.2f}%')\n",
    "print(f'Prediksi pengangguran perempuan tahun 2022: {prediksi_2022_perempuan:.2f}%')\n",
    "print(f'Prediksi pengangguran laki-laki tahun 2023: {prediksi_2023_laki_laki:.2f}%')\n",
    "print(f'Prediksi pengangguran perempuan tahun 2023: {prediksi_2023_perempuan:.2f}%')\n"
   ]
  }
 ],
 "metadata": {
  "kernelspec": {
   "display_name": "Python 3",
   "language": "python",
   "name": "python3"
  },
  "language_info": {
   "codemirror_mode": {
    "name": "ipython",
    "version": 3
   },
   "file_extension": ".py",
   "mimetype": "text/x-python",
   "name": "python",
   "nbconvert_exporter": "python",
   "pygments_lexer": "ipython3",
   "version": "3.7.6"
  }
 },
 "nbformat": 4,
 "nbformat_minor": 4
}
